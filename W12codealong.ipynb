{
 "cells": [
  {
   "cell_type": "markdown",
   "id": "aaa257ba-40a4-4ba0-8d45-2aac60ff373e",
   "metadata": {},
   "source": [
    "# CODE ALONG: FROM DISTRIBUTIONS TO HYPOTHESES"
   ]
  },
  {
   "cell_type": "markdown",
   "id": "b06fc589-81c6-4b0a-9b22-3c334e1aaad7",
   "metadata": {},
   "source": [
    "#### Learning Objectives\n",
    "\n",
    "    - To be able to use probability density function to calculate probablity of specific values\n",
    "    - To identify normally distributed features\n",
    "    - to perform a hypothesis test to compare numeric data between 2 groups"
   ]
  },
  {
   "cell_type": "code",
   "execution_count": 1,
   "id": "2f8e2aa9-08f5-4d87-a606-b5721ba6aea2",
   "metadata": {},
   "outputs": [],
   "source": [
    "#imports\n",
    "import pandas as pd\n",
    "import numpy as np\n",
    "import matplotlib as mpl\n",
    "import matplotlib.pyplot as plt\n",
    "import seaborn as sns\n",
    "from scipy import stats\n",
    "\n",
    "sns.set_context('talk')\n",
    "mpl.rcParams['figure.figsize']=[12,6]"
   ]
  },
  {
   "cell_type": "markdown",
   "id": "708d32af-9427-43c6-9536-ae3542d5743f",
   "metadata": {},
   "source": [
    "## Exploring Distributions\n",
    "\n",
    "Dataset:  https://archive.ics.uci.edu/ml/datasets/student+performance"
   ]
  },
  {
   "cell_type": "code",
   "execution_count": null,
   "id": "715ca0ba-270d-4fc3-9ea7-f960124cfb64",
   "metadata": {},
   "outputs": [],
   "source": [
    "# Setting max columns\n",
    "pd.set_option('display.max_columns', 100)"
   ]
  },
  {
   "cell_type": "code",
   "execution_count": 5,
   "id": "5c0ca464-d654-41e2-b150-54bcc2efc444",
   "metadata": {
    "collapsed": true,
    "jupyter": {
     "outputs_hidden": true
    }
   },
   "outputs": [
    {
     "ename": "ValueError",
     "evalue": "Multiple files found in ZIP file. Only one file per ZIP: ['.student.zip_old', 'student.zip']",
     "output_type": "error",
     "traceback": [
      "\u001b[0;31m---------------------------------------------------------------------------\u001b[0m",
      "\u001b[0;31mValueError\u001b[0m                                Traceback (most recent call last)",
      "Cell \u001b[0;32mIn[5], line 2\u001b[0m\n\u001b[1;32m      1\u001b[0m \u001b[38;5;66;03m## read in the Data/student/student-mat.csv (it uses \";\" as the sep)\u001b[39;00m\n\u001b[0;32m----> 2\u001b[0m df \u001b[38;5;241m=\u001b[39m \u001b[43mpd\u001b[49m\u001b[38;5;241;43m.\u001b[39;49m\u001b[43mread_csv\u001b[49m\u001b[43m(\u001b[49m\u001b[38;5;124;43m\"\u001b[39;49m\u001b[38;5;124;43mData/student+performance.zip\u001b[39;49m\u001b[38;5;124;43m\"\u001b[39;49m\u001b[43m,\u001b[49m\u001b[43m \u001b[49m\u001b[43msep\u001b[49m\u001b[38;5;241;43m=\u001b[39;49m\u001b[38;5;124;43m'\u001b[39;49m\u001b[38;5;124;43m;\u001b[39;49m\u001b[38;5;124;43m'\u001b[39;49m\u001b[43m)\u001b[49m\n\u001b[1;32m      4\u001b[0m \u001b[38;5;66;03m# display info and .head\u001b[39;00m\n\u001b[1;32m      5\u001b[0m df\u001b[38;5;241m.\u001b[39minfo()\n",
      "File \u001b[0;32m/opt/homebrew/Caskroom/miniforge/base/envs/dojo-env/lib/python3.10/site-packages/pandas/util/_decorators.py:211\u001b[0m, in \u001b[0;36mdeprecate_kwarg.<locals>._deprecate_kwarg.<locals>.wrapper\u001b[0;34m(*args, **kwargs)\u001b[0m\n\u001b[1;32m    209\u001b[0m     \u001b[38;5;28;01melse\u001b[39;00m:\n\u001b[1;32m    210\u001b[0m         kwargs[new_arg_name] \u001b[38;5;241m=\u001b[39m new_arg_value\n\u001b[0;32m--> 211\u001b[0m \u001b[38;5;28;01mreturn\u001b[39;00m \u001b[43mfunc\u001b[49m\u001b[43m(\u001b[49m\u001b[38;5;241;43m*\u001b[39;49m\u001b[43margs\u001b[49m\u001b[43m,\u001b[49m\u001b[43m \u001b[49m\u001b[38;5;241;43m*\u001b[39;49m\u001b[38;5;241;43m*\u001b[39;49m\u001b[43mkwargs\u001b[49m\u001b[43m)\u001b[49m\n",
      "File \u001b[0;32m/opt/homebrew/Caskroom/miniforge/base/envs/dojo-env/lib/python3.10/site-packages/pandas/util/_decorators.py:331\u001b[0m, in \u001b[0;36mdeprecate_nonkeyword_arguments.<locals>.decorate.<locals>.wrapper\u001b[0;34m(*args, **kwargs)\u001b[0m\n\u001b[1;32m    325\u001b[0m \u001b[38;5;28;01mif\u001b[39;00m \u001b[38;5;28mlen\u001b[39m(args) \u001b[38;5;241m>\u001b[39m num_allow_args:\n\u001b[1;32m    326\u001b[0m     warnings\u001b[38;5;241m.\u001b[39mwarn(\n\u001b[1;32m    327\u001b[0m         msg\u001b[38;5;241m.\u001b[39mformat(arguments\u001b[38;5;241m=\u001b[39m_format_argument_list(allow_args)),\n\u001b[1;32m    328\u001b[0m         \u001b[38;5;167;01mFutureWarning\u001b[39;00m,\n\u001b[1;32m    329\u001b[0m         stacklevel\u001b[38;5;241m=\u001b[39mfind_stack_level(),\n\u001b[1;32m    330\u001b[0m     )\n\u001b[0;32m--> 331\u001b[0m \u001b[38;5;28;01mreturn\u001b[39;00m \u001b[43mfunc\u001b[49m\u001b[43m(\u001b[49m\u001b[38;5;241;43m*\u001b[39;49m\u001b[43margs\u001b[49m\u001b[43m,\u001b[49m\u001b[43m \u001b[49m\u001b[38;5;241;43m*\u001b[39;49m\u001b[38;5;241;43m*\u001b[39;49m\u001b[43mkwargs\u001b[49m\u001b[43m)\u001b[49m\n",
      "File \u001b[0;32m/opt/homebrew/Caskroom/miniforge/base/envs/dojo-env/lib/python3.10/site-packages/pandas/io/parsers/readers.py:950\u001b[0m, in \u001b[0;36mread_csv\u001b[0;34m(filepath_or_buffer, sep, delimiter, header, names, index_col, usecols, squeeze, prefix, mangle_dupe_cols, dtype, engine, converters, true_values, false_values, skipinitialspace, skiprows, skipfooter, nrows, na_values, keep_default_na, na_filter, verbose, skip_blank_lines, parse_dates, infer_datetime_format, keep_date_col, date_parser, dayfirst, cache_dates, iterator, chunksize, compression, thousands, decimal, lineterminator, quotechar, quoting, doublequote, escapechar, comment, encoding, encoding_errors, dialect, error_bad_lines, warn_bad_lines, on_bad_lines, delim_whitespace, low_memory, memory_map, float_precision, storage_options)\u001b[0m\n\u001b[1;32m    935\u001b[0m kwds_defaults \u001b[38;5;241m=\u001b[39m _refine_defaults_read(\n\u001b[1;32m    936\u001b[0m     dialect,\n\u001b[1;32m    937\u001b[0m     delimiter,\n\u001b[0;32m   (...)\u001b[0m\n\u001b[1;32m    946\u001b[0m     defaults\u001b[38;5;241m=\u001b[39m{\u001b[38;5;124m\"\u001b[39m\u001b[38;5;124mdelimiter\u001b[39m\u001b[38;5;124m\"\u001b[39m: \u001b[38;5;124m\"\u001b[39m\u001b[38;5;124m,\u001b[39m\u001b[38;5;124m\"\u001b[39m},\n\u001b[1;32m    947\u001b[0m )\n\u001b[1;32m    948\u001b[0m kwds\u001b[38;5;241m.\u001b[39mupdate(kwds_defaults)\n\u001b[0;32m--> 950\u001b[0m \u001b[38;5;28;01mreturn\u001b[39;00m \u001b[43m_read\u001b[49m\u001b[43m(\u001b[49m\u001b[43mfilepath_or_buffer\u001b[49m\u001b[43m,\u001b[49m\u001b[43m \u001b[49m\u001b[43mkwds\u001b[49m\u001b[43m)\u001b[49m\n",
      "File \u001b[0;32m/opt/homebrew/Caskroom/miniforge/base/envs/dojo-env/lib/python3.10/site-packages/pandas/io/parsers/readers.py:605\u001b[0m, in \u001b[0;36m_read\u001b[0;34m(filepath_or_buffer, kwds)\u001b[0m\n\u001b[1;32m    602\u001b[0m _validate_names(kwds\u001b[38;5;241m.\u001b[39mget(\u001b[38;5;124m\"\u001b[39m\u001b[38;5;124mnames\u001b[39m\u001b[38;5;124m\"\u001b[39m, \u001b[38;5;28;01mNone\u001b[39;00m))\n\u001b[1;32m    604\u001b[0m \u001b[38;5;66;03m# Create the parser.\u001b[39;00m\n\u001b[0;32m--> 605\u001b[0m parser \u001b[38;5;241m=\u001b[39m \u001b[43mTextFileReader\u001b[49m\u001b[43m(\u001b[49m\u001b[43mfilepath_or_buffer\u001b[49m\u001b[43m,\u001b[49m\u001b[43m \u001b[49m\u001b[38;5;241;43m*\u001b[39;49m\u001b[38;5;241;43m*\u001b[39;49m\u001b[43mkwds\u001b[49m\u001b[43m)\u001b[49m\n\u001b[1;32m    607\u001b[0m \u001b[38;5;28;01mif\u001b[39;00m chunksize \u001b[38;5;129;01mor\u001b[39;00m iterator:\n\u001b[1;32m    608\u001b[0m     \u001b[38;5;28;01mreturn\u001b[39;00m parser\n",
      "File \u001b[0;32m/opt/homebrew/Caskroom/miniforge/base/envs/dojo-env/lib/python3.10/site-packages/pandas/io/parsers/readers.py:1442\u001b[0m, in \u001b[0;36mTextFileReader.__init__\u001b[0;34m(self, f, engine, **kwds)\u001b[0m\n\u001b[1;32m   1439\u001b[0m     \u001b[38;5;28mself\u001b[39m\u001b[38;5;241m.\u001b[39moptions[\u001b[38;5;124m\"\u001b[39m\u001b[38;5;124mhas_index_names\u001b[39m\u001b[38;5;124m\"\u001b[39m] \u001b[38;5;241m=\u001b[39m kwds[\u001b[38;5;124m\"\u001b[39m\u001b[38;5;124mhas_index_names\u001b[39m\u001b[38;5;124m\"\u001b[39m]\n\u001b[1;32m   1441\u001b[0m \u001b[38;5;28mself\u001b[39m\u001b[38;5;241m.\u001b[39mhandles: IOHandles \u001b[38;5;241m|\u001b[39m \u001b[38;5;28;01mNone\u001b[39;00m \u001b[38;5;241m=\u001b[39m \u001b[38;5;28;01mNone\u001b[39;00m\n\u001b[0;32m-> 1442\u001b[0m \u001b[38;5;28mself\u001b[39m\u001b[38;5;241m.\u001b[39m_engine \u001b[38;5;241m=\u001b[39m \u001b[38;5;28;43mself\u001b[39;49m\u001b[38;5;241;43m.\u001b[39;49m\u001b[43m_make_engine\u001b[49m\u001b[43m(\u001b[49m\u001b[43mf\u001b[49m\u001b[43m,\u001b[49m\u001b[43m \u001b[49m\u001b[38;5;28;43mself\u001b[39;49m\u001b[38;5;241;43m.\u001b[39;49m\u001b[43mengine\u001b[49m\u001b[43m)\u001b[49m\n",
      "File \u001b[0;32m/opt/homebrew/Caskroom/miniforge/base/envs/dojo-env/lib/python3.10/site-packages/pandas/io/parsers/readers.py:1735\u001b[0m, in \u001b[0;36mTextFileReader._make_engine\u001b[0;34m(self, f, engine)\u001b[0m\n\u001b[1;32m   1733\u001b[0m     \u001b[38;5;28;01mif\u001b[39;00m \u001b[38;5;124m\"\u001b[39m\u001b[38;5;124mb\u001b[39m\u001b[38;5;124m\"\u001b[39m \u001b[38;5;129;01mnot\u001b[39;00m \u001b[38;5;129;01min\u001b[39;00m mode:\n\u001b[1;32m   1734\u001b[0m         mode \u001b[38;5;241m+\u001b[39m\u001b[38;5;241m=\u001b[39m \u001b[38;5;124m\"\u001b[39m\u001b[38;5;124mb\u001b[39m\u001b[38;5;124m\"\u001b[39m\n\u001b[0;32m-> 1735\u001b[0m \u001b[38;5;28mself\u001b[39m\u001b[38;5;241m.\u001b[39mhandles \u001b[38;5;241m=\u001b[39m \u001b[43mget_handle\u001b[49m\u001b[43m(\u001b[49m\n\u001b[1;32m   1736\u001b[0m \u001b[43m    \u001b[49m\u001b[43mf\u001b[49m\u001b[43m,\u001b[49m\n\u001b[1;32m   1737\u001b[0m \u001b[43m    \u001b[49m\u001b[43mmode\u001b[49m\u001b[43m,\u001b[49m\n\u001b[1;32m   1738\u001b[0m \u001b[43m    \u001b[49m\u001b[43mencoding\u001b[49m\u001b[38;5;241;43m=\u001b[39;49m\u001b[38;5;28;43mself\u001b[39;49m\u001b[38;5;241;43m.\u001b[39;49m\u001b[43moptions\u001b[49m\u001b[38;5;241;43m.\u001b[39;49m\u001b[43mget\u001b[49m\u001b[43m(\u001b[49m\u001b[38;5;124;43m\"\u001b[39;49m\u001b[38;5;124;43mencoding\u001b[39;49m\u001b[38;5;124;43m\"\u001b[39;49m\u001b[43m,\u001b[49m\u001b[43m \u001b[49m\u001b[38;5;28;43;01mNone\u001b[39;49;00m\u001b[43m)\u001b[49m\u001b[43m,\u001b[49m\n\u001b[1;32m   1739\u001b[0m \u001b[43m    \u001b[49m\u001b[43mcompression\u001b[49m\u001b[38;5;241;43m=\u001b[39;49m\u001b[38;5;28;43mself\u001b[39;49m\u001b[38;5;241;43m.\u001b[39;49m\u001b[43moptions\u001b[49m\u001b[38;5;241;43m.\u001b[39;49m\u001b[43mget\u001b[49m\u001b[43m(\u001b[49m\u001b[38;5;124;43m\"\u001b[39;49m\u001b[38;5;124;43mcompression\u001b[39;49m\u001b[38;5;124;43m\"\u001b[39;49m\u001b[43m,\u001b[49m\u001b[43m \u001b[49m\u001b[38;5;28;43;01mNone\u001b[39;49;00m\u001b[43m)\u001b[49m\u001b[43m,\u001b[49m\n\u001b[1;32m   1740\u001b[0m \u001b[43m    \u001b[49m\u001b[43mmemory_map\u001b[49m\u001b[38;5;241;43m=\u001b[39;49m\u001b[38;5;28;43mself\u001b[39;49m\u001b[38;5;241;43m.\u001b[39;49m\u001b[43moptions\u001b[49m\u001b[38;5;241;43m.\u001b[39;49m\u001b[43mget\u001b[49m\u001b[43m(\u001b[49m\u001b[38;5;124;43m\"\u001b[39;49m\u001b[38;5;124;43mmemory_map\u001b[39;49m\u001b[38;5;124;43m\"\u001b[39;49m\u001b[43m,\u001b[49m\u001b[43m \u001b[49m\u001b[38;5;28;43;01mFalse\u001b[39;49;00m\u001b[43m)\u001b[49m\u001b[43m,\u001b[49m\n\u001b[1;32m   1741\u001b[0m \u001b[43m    \u001b[49m\u001b[43mis_text\u001b[49m\u001b[38;5;241;43m=\u001b[39;49m\u001b[43mis_text\u001b[49m\u001b[43m,\u001b[49m\n\u001b[1;32m   1742\u001b[0m \u001b[43m    \u001b[49m\u001b[43merrors\u001b[49m\u001b[38;5;241;43m=\u001b[39;49m\u001b[38;5;28;43mself\u001b[39;49m\u001b[38;5;241;43m.\u001b[39;49m\u001b[43moptions\u001b[49m\u001b[38;5;241;43m.\u001b[39;49m\u001b[43mget\u001b[49m\u001b[43m(\u001b[49m\u001b[38;5;124;43m\"\u001b[39;49m\u001b[38;5;124;43mencoding_errors\u001b[39;49m\u001b[38;5;124;43m\"\u001b[39;49m\u001b[43m,\u001b[49m\u001b[43m \u001b[49m\u001b[38;5;124;43m\"\u001b[39;49m\u001b[38;5;124;43mstrict\u001b[39;49m\u001b[38;5;124;43m\"\u001b[39;49m\u001b[43m)\u001b[49m\u001b[43m,\u001b[49m\n\u001b[1;32m   1743\u001b[0m \u001b[43m    \u001b[49m\u001b[43mstorage_options\u001b[49m\u001b[38;5;241;43m=\u001b[39;49m\u001b[38;5;28;43mself\u001b[39;49m\u001b[38;5;241;43m.\u001b[39;49m\u001b[43moptions\u001b[49m\u001b[38;5;241;43m.\u001b[39;49m\u001b[43mget\u001b[49m\u001b[43m(\u001b[49m\u001b[38;5;124;43m\"\u001b[39;49m\u001b[38;5;124;43mstorage_options\u001b[39;49m\u001b[38;5;124;43m\"\u001b[39;49m\u001b[43m,\u001b[49m\u001b[43m \u001b[49m\u001b[38;5;28;43;01mNone\u001b[39;49;00m\u001b[43m)\u001b[49m\u001b[43m,\u001b[49m\n\u001b[1;32m   1744\u001b[0m \u001b[43m\u001b[49m\u001b[43m)\u001b[49m\n\u001b[1;32m   1745\u001b[0m \u001b[38;5;28;01massert\u001b[39;00m \u001b[38;5;28mself\u001b[39m\u001b[38;5;241m.\u001b[39mhandles \u001b[38;5;129;01mis\u001b[39;00m \u001b[38;5;129;01mnot\u001b[39;00m \u001b[38;5;28;01mNone\u001b[39;00m\n\u001b[1;32m   1746\u001b[0m f \u001b[38;5;241m=\u001b[39m \u001b[38;5;28mself\u001b[39m\u001b[38;5;241m.\u001b[39mhandles\u001b[38;5;241m.\u001b[39mhandle\n",
      "File \u001b[0;32m/opt/homebrew/Caskroom/miniforge/base/envs/dojo-env/lib/python3.10/site-packages/pandas/io/common.py:790\u001b[0m, in \u001b[0;36mget_handle\u001b[0;34m(path_or_buf, mode, encoding, compression, memory_map, is_text, errors, storage_options)\u001b[0m\n\u001b[1;32m    788\u001b[0m             \u001b[38;5;28;01mraise\u001b[39;00m \u001b[38;5;167;01mValueError\u001b[39;00m(\u001b[38;5;124mf\u001b[39m\u001b[38;5;124m\"\u001b[39m\u001b[38;5;124mZero files found in ZIP file \u001b[39m\u001b[38;5;132;01m{\u001b[39;00mpath_or_buf\u001b[38;5;132;01m}\u001b[39;00m\u001b[38;5;124m\"\u001b[39m)\n\u001b[1;32m    789\u001b[0m         \u001b[38;5;28;01melse\u001b[39;00m:\n\u001b[0;32m--> 790\u001b[0m             \u001b[38;5;28;01mraise\u001b[39;00m \u001b[38;5;167;01mValueError\u001b[39;00m(\n\u001b[1;32m    791\u001b[0m                 \u001b[38;5;124m\"\u001b[39m\u001b[38;5;124mMultiple files found in ZIP file. \u001b[39m\u001b[38;5;124m\"\u001b[39m\n\u001b[1;32m    792\u001b[0m                 \u001b[38;5;124mf\u001b[39m\u001b[38;5;124m\"\u001b[39m\u001b[38;5;124mOnly one file per ZIP: \u001b[39m\u001b[38;5;132;01m{\u001b[39;00mzip_names\u001b[38;5;132;01m}\u001b[39;00m\u001b[38;5;124m\"\u001b[39m\n\u001b[1;32m    793\u001b[0m             )\n\u001b[1;32m    795\u001b[0m \u001b[38;5;66;03m# TAR Encoding\u001b[39;00m\n\u001b[1;32m    796\u001b[0m \u001b[38;5;28;01melif\u001b[39;00m compression \u001b[38;5;241m==\u001b[39m \u001b[38;5;124m\"\u001b[39m\u001b[38;5;124mtar\u001b[39m\u001b[38;5;124m\"\u001b[39m:\n",
      "\u001b[0;31mValueError\u001b[0m: Multiple files found in ZIP file. Only one file per ZIP: ['.student.zip_old', 'student.zip']"
     ]
    }
   ],
   "source": [
    "## read in the Data/student/student-mat.csv (it uses \";\" as the sep)\n",
    "df = pd.read_csv(\"Data/student+performance.zip\", sep=';')\n",
    "\n",
    "# display info and .head\n",
    "df.info()\n",
    "df.head()"
   ]
  },
  {
   "cell_type": "code",
   "execution_count": null,
   "id": "4da8f836-b5d7-4925-812b-c1de540ad0bb",
   "metadata": {},
   "outputs": [],
   "source": [
    "#Calculate an Avg Grade column by averaging G1, G2, G3\n",
    "#then devide by 20, and * 100(to make to \"%\")\n",
    "df[\"Avg Grade\"]=df[[\"G1, G2, G3\"]].mean(axis=1)/20*100\n",
    "df"
   ]
  },
  {
   "cell_type": "code",
   "execution_count": null,
   "id": "490a24c4-761d-4c85-8887-f3a4e5823e66",
   "metadata": {},
   "outputs": [],
   "source": [
    "#plot the distribution of Avg Grade\n",
    "sns.histplot(data=df,x=\"Avg Grade\",kde=True);"
   ]
  },
  {
   "cell_type": "code",
   "execution_count": null,
   "id": "ea7010f9-59f6-4f24-a8aa-4e1a39255a7b",
   "metadata": {},
   "outputs": [],
   "source": [
    "# use scipy\"s normaltest to determin if normal distributed\n",
    "#pvalue > .05 normal\n",
    "stats.normaltest(df[\"Avg Grade\"])\n"
   ]
  },
  {
   "cell_type": "markdown",
   "id": "092a2ea5-28cc-42b7-b1c9-90f995c5c330",
   "metadata": {},
   "source": [
    "    - Wh have our p-value for our normaltest, but what does it mean??\n",
    "        - Check the docstring for the normaltest to find out the null hypothesis of the test"
   ]
  },
  {
   "cell_type": "markdown",
   "id": "4de0164f-1da4-46e8-8074-6fb8b1abf5a6",
   "metadata": {},
   "source": [
    "### Calculating Probabilities with Scipy's Probability Density Function"
   ]
  },
  {
   "cell_type": "code",
   "execution_count": null,
   "id": "15f9ab41-d984-4deb-93a2-d14ec0ef795f",
   "metadata": {},
   "outputs": [],
   "source": [
    "# Get the mean, std, min, and max for the Avg Grade column\n",
    "#could use df[\"Avg Grade\"].describe()\n",
    "dist_stats = df['Avg Grade'].agg(['mean', 'std', 'min', 'max'])\n",
    "dist_stats"
   ]
  },
  {
   "cell_type": "code",
   "execution_count": null,
   "id": "16ef0b72-bb4d-4349-901b-1c8ee4c26d77",
   "metadata": {},
   "outputs": [],
   "source": [
    "# Generate a linearly-spaced array of values that span the min to the max ....\n",
    "xs=np.linspace(dist_stats.loc['min'], dist_stats.loc['max'])\n",
    "xs"
   ]
  },
  {
   "cell_type": "code",
   "execution_count": null,
   "id": "3c6e07fe-9383-4e1a-9ffa-0c779aba9afe",
   "metadata": {},
   "outputs": [],
   "source": [
    "# use stats.norm.pdf to get the PDF curve that corresponds to your ...\n",
    "pdf = stats.norm.pdf(xs,loc=dist_stats.loc['mean'], scale=dist_stats.loc[\"std\"])\n",
    "pdf"
   ]
  },
  {
   "cell_type": "code",
   "execution_count": null,
   "id": "cfaf5ed7-dfa7-4134-a3e0-b0353159d332",
   "metadata": {},
   "outputs": [],
   "source": [
    "#plot the histogram again and then plot the pdf we calculated\n",
    "sns.histplot(data=df,x='Avg Grade',y=\"density\")\n",
    "plt.plot(xs,pdf,color='red',label=\"PDF\")\n",
    "plt.legend();"
   ]
  },
  {
   "cell_type": "markdown",
   "id": "0cdaa5c7-91e4-4a6a-afb6-b303dd106dee",
   "metadata": {},
   "source": [
    "    - Looks pretty normal! But can we confirm for a fact that its normal?"
   ]
  },
  {
   "cell_type": "code",
   "execution_count": null,
   "id": "8c35a424-fd81-482a-98a9-db6e77c527d6",
   "metadata": {},
   "outputs": [],
   "source": [
    "# WATCH VIDEO FOR CODE TO PROVE IT NORMAL"
   ]
  },
  {
   "cell_type": "markdown",
   "id": "fbd88cbf-cb9f-419d-b001-32f2d94c4b6f",
   "metadata": {},
   "source": [
    "### Q1 What is the probability of a student getting a score of 90 or above?"
   ]
  },
  {
   "cell_type": "code",
   "execution_count": null,
   "id": "1fa9bf03-d87b-4d01-a389-fabb2ea876b7",
   "metadata": {},
   "outputs": [],
   "source": [
    "#Plot the histogram again ad pdf again\n",
    "sns.histplot(data=df,x='Avg Grade',y='density')\n",
    "plt.plot(xs,pdf,color='red',label=\"PDF\")\n",
    "\n",
    "#Add a vspan to the plot showing the region we want to calc prob for\n",
    "plt.axvspan(90,100,alpha=.6, color='orange',zorder=0)\n",
    "\n",
    "plt.legend();"
   ]
  },
  {
   "cell_type": "markdown",
   "id": "4a4b3c88-8116-48c4-8f6b-a7a1c8bc3310",
   "metadata": {},
   "source": [
    "    - how can we calculate this probability? Can we use the PDF?"
   ]
  },
  {
   "cell_type": "code",
   "execution_count": null,
   "id": "fa86ea70-8115-42a3-b551-c9efd9281874",
   "metadata": {},
   "outputs": [],
   "source": [
    "# Try making a list of values from 90-100 and getting the pdf value\n",
    "above_90=list(range(90,101))\n",
    "above_90_pdf=stats.norm.pdf(above_90,loc=dist-stats.loc[\"mean\"], scale=dist_stats.loc[\"std\"])\n",
    "\n",
    "#Sum the values to get the total probability\n",
    "above_90_pdf.sum()"
   ]
  },
  {
   "cell_type": "markdown",
   "id": "6e7bc90e-094a-4f68-bda5-863ad792fc7e",
   "metadata": {},
   "source": [
    "    - What the flaw to the approach?"
   ]
  },
  {
   "cell_type": "code",
   "execution_count": null,
   "id": "c2ba8559-2f10-4a05-ab19-a3e14d7787dc",
   "metadata": {},
   "outputs": [],
   "source": [
    "# use the cumulative density function to find prob of 90 or lower\n",
    "p_less_90=stats.norm.cdf(90,loc=dist_stats=[\"mean\"], scale=dist-stats.loc[\"std\"])\n",
    "p_less_90"
   ]
  },
  {
   "cell_type": "markdown",
   "id": "882dd088-9970-4189-821d-1756fa809164",
   "metadata": {},
   "source": [
    "    - Now we want the opposit probability, probablity of being GREATER Than 90"
   ]
  },
  {
   "cell_type": "code",
   "execution_count": null,
   "id": "4e63aa6b-060e-451b-ab55-c324fcd10e47",
   "metadata": {},
   "outputs": [],
   "source": [
    "#Calc 1-prob of 90 or lower\n",
    "1-p_less_90"
   ]
  },
  {
   "cell_type": "markdown",
   "id": "2b7d5758-c62e-48b2-9bcb-b84a479df64f",
   "metadata": {},
   "source": [
    "    - Answer: there is a 2.4% chance of having a score greater that 90"
   ]
  },
  {
   "cell_type": "markdown",
   "id": "24c469c4-0b68-4dc2-af31-7ba8087ff14e",
   "metadata": {},
   "source": [
    "## Hypothesis Testing"
   ]
  },
  {
   "cell_type": "markdown",
   "id": "21e95ca0-03de-4302-8ac7-bceae8f07afc",
   "metadata": {},
   "source": [
    "### State The Hypothesis\n",
    "    - (Null Hypothesis): Students with internet access have the same average grades as students who do not.\n",
    "    - (Alternative Hypothesis): Students with internet access have significantly different average grades compared to students who do not.\n",
    "\n",
    "### Visualize and Separate Groups\n",
    "    - Visualize the histogram of Avg Grade again, but separate it into groups based on the \"internet\" column.\n",
    "    - Note: when comparing 2 groups with seaborn's histplot, you will want to add common_norm=False"
   ]
  },
  {
   "cell_type": "code",
   "execution_count": null,
   "id": "d53442c1-7c75-490e-b9aa-d284de7bd2b9",
   "metadata": {},
   "outputs": [],
   "source": [
    "df[\"internet\"].value_counts(1)"
   ]
  },
  {
   "cell_type": "code",
   "execution_count": null,
   "id": "f953301c-ab52-4108-9a5f-2b0cb5e360f4",
   "metadata": {},
   "outputs": [],
   "source": [
    "sns.countplot(data=df,x='internet');"
   ]
  },
  {
   "cell_type": "code",
   "execution_count": null,
   "id": "85828604-29e2-4e09-849d-5badf67abd81",
   "metadata": {},
   "outputs": [],
   "source": [
    "# visulize the histogram of Avg Grade again but separate it by \"internet\"\n",
    "sns.histplot(data=df,x=\"Avg Grade\",hue='internet', common_norm=False,\n",
    "            stat='density',kde=True);"
   ]
  },
  {
   "cell_type": "code",
   "execution_count": null,
   "id": "18b51dd8-2477-4af3-b2db-47030370ce20",
   "metadata": {},
   "outputs": [],
   "source": [
    "# Plot a bar plot fo the Avg Grade for the students with internet vs. those that do not...\n",
    "sns.barplot(data=df,x='internet',y='Avg Grade');"
   ]
  },
  {
   "cell_type": "code",
   "execution_count": null,
   "id": "aa9c2a07-5f62-44ef-9a05-b65950b71cda",
   "metadata": {},
   "outputs": [],
   "source": [
    "#Separat the 2 groups into 2 varaibles\n",
    "grp_yes=df.loc[df['internet']=='yes','Avg Grade']\n",
    "grp_no=df.loc[df['internet']=='no','Avg Grade']\n",
    "\n",
    "display(grp_yes.head(), grp_no.head())"
   ]
  },
  {
   "cell_type": "markdown",
   "id": "57f883ce-e031-495a-b5ad-e9594c8abb10",
   "metadata": {},
   "source": [
    "#### T-Test Assumptions\n",
    "    - Since we are comparing a numeric measurement between 2 groups, we want to run a 2-sample (AKA independent T-test).\n",
    "\n",
    "    - The Assumptions are:\n",
    "\n",
    "        - No significant outliers\n",
    "        - Normality\n",
    "        - Equal Variance"
   ]
  },
  {
   "cell_type": "markdown",
   "id": "f56ac7fb-6538-45ac-abbd-715425563bac",
   "metadata": {},
   "source": [
    "#### Assumption: No Sig. Outliers"
   ]
  },
  {
   "cell_type": "code",
   "execution_count": null,
   "id": "f73a4fad-11fb-415f-bbdc-59cc3b863add",
   "metadata": {},
   "outputs": [],
   "source": [
    "# check yes group for outliers using z-score >3 rule\n",
    "outliers_yes = np.abs(stats.zscore(grp_yes))>3\n",
    "outliers_yes.sum()"
   ]
  },
  {
   "cell_type": "code",
   "execution_count": null,
   "id": "5e26c6a4-9497-45b6-9c86-295d6d4c430d",
   "metadata": {},
   "outputs": [],
   "source": [
    "# check no group for outliers using z-score >3 rule\n",
    "outliers_no=np.abs(stats.zscore(grp_no))>3\n",
    "outliers_no.sum()"
   ]
  },
  {
   "cell_type": "markdown",
   "id": "be913e94-f4d8-437f-b2f0-d20505569036",
   "metadata": {},
   "source": [
    "    - No outliers to worry about!  Assumption met."
   ]
  },
  {
   "cell_type": "markdown",
   "id": "4b940bad-1ae6-45a8-bf3b-0703c23f5217",
   "metadata": {},
   "source": [
    "#### Assumption: Normally Distributed Groups"
   ]
  },
  {
   "cell_type": "code",
   "execution_count": null,
   "id": "abd16fb0-19a4-42e0-9410-f697d5054ed4",
   "metadata": {},
   "outputs": [],
   "source": [
    "# Use normaltest to ceck if yes group is normally distributed\n",
    "stats.normaltest(grp_yes)"
   ]
  },
  {
   "cell_type": "code",
   "execution_count": null,
   "id": "6d1d8150-a997-4865-b546-6f85dfa639cc",
   "metadata": {},
   "outputs": [],
   "source": [
    "# Use normaltest to check if no group is normally distributed\n",
    "stats.normaltest(grp_no)"
   ]
  },
  {
   "cell_type": "markdown",
   "id": "836199cf-c7d2-4af8-b1c2-4af100f4ec3c",
   "metadata": {},
   "source": [
    "    - Did we meet the assumption of normality?"
   ]
  },
  {
   "cell_type": "markdown",
   "id": "158e10a5-3b54-4546-aad4-cd1e2aa674c6",
   "metadata": {},
   "source": [
    "#### Assumption: Equal Variance"
   ]
  },
  {
   "cell_type": "code",
   "execution_count": null,
   "id": "78a05a61-18cc-4d41-b97f-073b84f132b4",
   "metadata": {},
   "outputs": [],
   "source": [
    "# Use Levene's test to check if groups have equal variance\n",
    "stats.levene(grp_yes,grp_no)"
   ]
  },
  {
   "cell_type": "markdown",
   "id": "509e50a3-c3b5-4b4e-a9de-c737bb108af2",
   "metadata": {},
   "source": [
    "    - Did we meet the assumption of equal variance?"
   ]
  },
  {
   "cell_type": "markdown",
   "id": "2e9d7488-1038-4daa-8da4-58e921838b5b",
   "metadata": {},
   "source": [
    "#### Perform Final Hypothesis Test (T-Test)\n",
    "\n",
    "    - Since we met all of the assumptions for the test we can proceed with our t-test.\n",
    "    - Next class we will discuss what we would do if we did NOT meet the assumptions."
   ]
  },
  {
   "cell_type": "code",
   "execution_count": null,
   "id": "e0d8c8b0-2628-4b01-b3da-4168c9566814",
   "metadata": {},
   "outputs": [],
   "source": [
    "# run stats.ttest_ind on the 2 groups\n",
    "results=stats.ttest_ind(grp_yes,grp_no)\n",
    "results"
   ]
  },
  {
   "cell_type": "markdown",
   "id": "414d9978-536a-4b47-aa66-443e733dc5b2",
   "metadata": {},
   "source": [
    "    - What is our p-value? Is it less than our alpha of .05? What does this mean?\n",
    "\n",
    "    - Our T-Test returned a p-value of .041. Since p<.05, we can reject the null hypothesis that students with internet access have the same average grades as students who do not.\n",
    "\n",
    "We therefore support the alternative hypothesis that there is a significant difference in Average Grades between students who do/do not have internet access. Our visualization below shows that students with internet access have HIGHER average grades."
   ]
  },
  {
   "cell_type": "code",
   "execution_count": null,
   "id": "5f695e26-8a6f-403c-8ab2-460b87c09c91",
   "metadata": {},
   "outputs": [],
   "source": [
    "## Add a summary visual to support our results.\n",
    "sns.barplot(data=df, x='internet',y='Avg Grade',ci=68)"
   ]
  },
  {
   "cell_type": "markdown",
   "id": "03758d97-3549-4472-951d-c7e0032b7036",
   "metadata": {},
   "source": [
    "# Challenge Q: what is the probability of a student getting a score less than 30 ?"
   ]
  },
  {
   "cell_type": "code",
   "execution_count": null,
   "id": "ac6c9072-c367-4cc0-8871-82cc16b3a4b4",
   "metadata": {},
   "outputs": [],
   "source": [
    "## Plot the histogram again AND pdf again\n",
    "sns.histplot(data=df, x='Avg Grade', stat='density')\n",
    "plt.plot(xs,pdf,color='red', label='PDF')\n",
    "\n",
    "## Add a vpsan to the plot showing the region we want to calc prob for\n",
    "plt.axvspan(1,31,alpha=0.6,color='orange',zorder=0)\n",
    "\n",
    "plt.legend();\n"
   ]
  },
  {
   "cell_type": "markdown",
   "id": "6efe7c62-2814-4e8f-a244-a679069b7713",
   "metadata": {},
   "source": [
    "    - How can we calculate this probability? Can we use the PDF?"
   ]
  },
  {
   "cell_type": "code",
   "execution_count": null,
   "id": "724d354d-6664-4990-9771-54d3b2c67766",
   "metadata": {},
   "outputs": [],
   "source": [
    "## try making a list of values between  0-30 and getting the pdf values\n",
    "less_30 = list(range(0,31))\n",
    "less_30_pdf = stats.norm.pdf(less_30, loc=dist_stats.loc['mean'], scale=dist_stats.loc['std'])\n",
    "\n",
    "## Sum the values to get the total probability. \n",
    "less_30_pdf.sum()"
   ]
  },
  {
   "cell_type": "code",
   "execution_count": null,
   "id": "ba139cab-cbad-44df-8e46-2dd38b71bd4b",
   "metadata": {},
   "outputs": [],
   "source": [
    "## Use the cumulative density function to find prob of 30 OR lower.\n",
    "p_less_30 = stats.norm.cdf(30, loc=dist_stats.loc['mean'], scale=dist_stats.loc['std'])\n",
    "p_less_30\n"
   ]
  },
  {
   "cell_type": "markdown",
   "id": "adc75264-f832-4c6f-b8a6-76582d8dfe2b",
   "metadata": {},
   "source": [
    "    - Answer: there is a 1% chance of having a score less than 30.\n"
   ]
  }
 ],
 "metadata": {
  "kernelspec": {
   "display_name": "Python 3 (ipykernel)",
   "language": "python",
   "name": "python3"
  },
  "language_info": {
   "codemirror_mode": {
    "name": "ipython",
    "version": 3
   },
   "file_extension": ".py",
   "mimetype": "text/x-python",
   "name": "python",
   "nbconvert_exporter": "python",
   "pygments_lexer": "ipython3",
   "version": "3.10.10"
  },
  "widgets": {
   "application/vnd.jupyter.widget-state+json": {
    "state": {},
    "version_major": 2,
    "version_minor": 0
   }
  }
 },
 "nbformat": 4,
 "nbformat_minor": 5
}
